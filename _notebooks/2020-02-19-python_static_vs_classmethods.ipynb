{
 "cells": [
  {
   "cell_type": "markdown",
   "metadata": {},
   "source": [
    "# Static vs Classmethods\n",
    "> This post describes the use cases of staticmethods and classmethods decorators in python\n",
    "- toc: true\n",
    "- branch: master\n",
    "- badges: true\n",
    "- comments: true\n",
    "\n",
    "\n"
   ]
  },
  {
   "cell_type": "markdown",
   "metadata": {},
   "source": [
    "Classmethods can be used as an constructor overloading . Staticmethods can be used as standalone function which does not have any dependency on any functions in the same class.\n",
    " "
   ]
  },
  {
   "cell_type": "code",
   "execution_count": 5,
   "metadata": {},
   "outputs": [],
   "source": [
    "from math import *\n",
    "class Point():\n",
    "    def __init__(self, x, y):\n",
    "        self.x = x\n",
    "        self.y = y\n",
    "\n",
    "    @classmethod\n",
    "    def frompolar(cls, radius, angle):\n",
    "        \"\"\"The `cls` argument is the `Point` class itself\"\"\"\n",
    "        return cls(radius * cos(angle), radius * sin(angle))\n",
    "\n",
    "    @staticmethod\n",
    "    def angle(x, y):\n",
    "        \"\"\"this could be outside the class, but we put it here \n",
    "just because we think it is logically related to the class.\"\"\"\n",
    "        return atan(y/x)\n",
    "\n",
    "\n",
    "p1 = Point(3, 2)\n",
    "p2 = Point.frompolar(3, pi/4)\n",
    "\n",
    "angle = Point.angle(3, 2)\n"
   ]
  },
  {
   "cell_type": "code",
   "execution_count": 8,
   "metadata": {},
   "outputs": [
    {
     "data": {
      "text/plain": [
       "3"
      ]
     },
     "execution_count": 8,
     "metadata": {},
     "output_type": "execute_result"
    }
   ],
   "source": [
    "p1.x"
   ]
  },
  {
   "cell_type": "code",
   "execution_count": 9,
   "metadata": {},
   "outputs": [
    {
     "data": {
      "text/plain": [
       "2.121320343559643"
      ]
     },
     "execution_count": 9,
     "metadata": {},
     "output_type": "execute_result"
    }
   ],
   "source": [
    "p2.x"
   ]
  },
  {
   "cell_type": "markdown",
   "metadata": {},
   "source": [
    "Another consideration with respect to staticmethod vs classmethod comes up with inheritance. Say you have the following class:\n"
   ]
  },
  {
   "cell_type": "code",
   "execution_count": 10,
   "metadata": {},
   "outputs": [],
   "source": [
    "class Foo(object):\n",
    "    @staticmethod\n",
    "    def bar():\n",
    "        return \"In Foo\"\n",
    "    "
   ]
  },
  {
   "cell_type": "markdown",
   "metadata": {},
   "source": [
    "and you want to and you then want to override bar() in a child class:\n"
   ]
  },
  {
   "cell_type": "code",
   "execution_count": null,
   "metadata": {},
   "outputs": [],
   "source": [
    "class Foo2(object):\n",
    "    @staticmethod\n",
    "    def bar():\n",
    "        return \"In Foo2\"\n",
    "    "
   ]
  },
  {
   "cell_type": "markdown",
   "metadata": {},
   "source": [
    "This works, but note that now the bar() implementation in the child class (Foo2) can no longer take advantage of anything specific to that class. For example, say Foo2 had a method called magic() that you want to use in the Foo2 implementation of bar():"
   ]
  },
  {
   "cell_type": "code",
   "execution_count": 11,
   "metadata": {},
   "outputs": [],
   "source": [
    "class Foo2(Foo):\n",
    "    @staticmethod\n",
    "    def bar():\n",
    "        return \"In Foo2\"\n",
    "    @staticmethod\n",
    "    def magic():\n",
    "        return \"Something useful you'd like to use in bar, but now can't\" \n",
    "    "
   ]
  },
  {
   "cell_type": "markdown",
   "metadata": {},
   "source": [
    "A workaround is call Foo2().magic() in bar() but it takes away the flexibility to refactor Foo2 because then you will also need to change in the bar() method . But if bar() was a class method , it wouldn't have been a problem\n"
   ]
  },
  {
   "cell_type": "code",
   "execution_count": 13,
   "metadata": {},
   "outputs": [
    {
     "name": "stdout",
     "output_type": "stream",
     "text": [
      "In Foo2 MAGIC\n"
     ]
    }
   ],
   "source": [
    "class Foo(object):\n",
    "    @classmethod\n",
    "    def bar(cls):\n",
    "        return \"In Foo\"\n",
    "\n",
    "class Foo2(Foo):\n",
    "    @classmethod\n",
    "    def bar(cls):\n",
    "        return \"In Foo2 \" + cls.magic()\n",
    "    @classmethod\n",
    "    def magic(cls):\n",
    "        return \"MAGIC\"\n",
    "\n",
    "print (Foo2().bar())"
   ]
  },
  {
   "cell_type": "markdown",
   "metadata": {},
   "source": [
    "here even if I rename Foo2 ,it wouldn't affect the internal workings of bar()"
   ]
  },
  {
   "cell_type": "code",
   "execution_count": null,
   "metadata": {},
   "outputs": [],
   "source": []
  }
 ],
 "metadata": {
  "kernelspec": {
   "display_name": "Python 3",
   "language": "python",
   "name": "python3"
  },
  "language_info": {
   "codemirror_mode": {
    "name": "ipython",
    "version": 3
   },
   "file_extension": ".py",
   "mimetype": "text/x-python",
   "name": "python",
   "nbconvert_exporter": "python",
   "pygments_lexer": "ipython3",
   "version": "3.5.6"
  }
 },
 "nbformat": 4,
 "nbformat_minor": 2
}
